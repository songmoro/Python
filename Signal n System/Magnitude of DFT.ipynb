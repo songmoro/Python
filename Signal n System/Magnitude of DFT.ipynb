{
 "cells": [
  {
   "cell_type": "code",
   "execution_count": 6,
   "metadata": {
    "collapsed": true
   },
   "outputs": [
    {
     "ename": "NameError",
     "evalue": "name 'ones' is not defined",
     "output_type": "error",
     "traceback": [
      "\u001B[0;31m---------------------------------------------------------------------------\u001B[0m",
      "\u001B[0;31mNameError\u001B[0m                                 Traceback (most recent call last)",
      "Input \u001B[0;32mIn [6]\u001B[0m, in \u001B[0;36m<cell line: 18>\u001B[0;34m()\u001B[0m\n\u001B[1;32m     15\u001B[0m     \u001B[38;5;28;01mreturn\u001B[39;00m U\u001B[38;5;241m/\u001B[39msqrt(Nfft)\n\u001B[1;32m     17\u001B[0m Nfft\u001B[38;5;241m=\u001B[39m\u001B[38;5;241m16\u001B[39m\n\u001B[0;32m---> 18\u001B[0m v \u001B[38;5;241m=\u001B[39m \u001B[43mones\u001B[49m((\u001B[38;5;241m16\u001B[39m,\u001B[38;5;241m1\u001B[39m))\n\u001B[1;32m     19\u001B[0m U \u001B[38;5;241m=\u001B[39m dftmatrix(Nfft\u001B[38;5;241m=\u001B[39mNfft,N\u001B[38;5;241m=\u001B[39m\u001B[38;5;241m16\u001B[39m)\n\u001B[1;32m     21\u001B[0m \u001B[38;5;66;03m# ---\u001B[39;00m\n\u001B[1;32m     22\u001B[0m \u001B[38;5;66;03m# hardcoded constants to format complicated figure\u001B[39;00m\n",
      "\u001B[0;31mNameError\u001B[0m: name 'ones' is not defined"
     ]
    }
   ],
   "source": [
    "# must start notebook with --pylab flag\n",
    "\n",
    "from __future__ import  division\n",
    "from matplotlib.patches import FancyArrow\n",
    "import mpl_toolkits.mplot3d.art3d as art3d\n",
    "from mpl_toolkits.mplot3d.art3d import Poly3DCollection\n",
    "import matplotlib.gridspec as gridspec\n",
    "\n",
    "def dftmatrix(Nfft=32,N=None):\n",
    "    'construct DFT matrix'\n",
    "    k= np.arange(Nfft)\n",
    "    if N is None: N = Nfft\n",
    "    n = arange(N)\n",
    "    U = matrix(exp(1j* 2*pi/Nfft *k*n[:,None])) # use numpy broadcasting to create matrix\n",
    "    return U/sqrt(Nfft)\n",
    "\n",
    "Nfft=16\n",
    "v = ones((16,1))\n",
    "U = dftmatrix(Nfft=Nfft,N=16)\n",
    "\n",
    "# ---\n",
    "# hardcoded constants to format complicated figure\n",
    "\n",
    "gs = gridspec.GridSpec(8,12)\n",
    "gs.update( wspace=1, left=0.01)\n",
    "\n",
    "fig =figure(figsize=(10,5))\n",
    "ax0 = subplot(gs[:,:3])\n",
    "fig.add_subplot(ax0)\n",
    "\n",
    "ax0.set_aspect(1)\n",
    "a=2*pi/Nfft*arange(Nfft)\n",
    "\n",
    "colors = ['k','b','r','m','g','Brown','DarkBlue','Tomato','Violet', 'Tan','Salmon','Pink',\n",
    "          'SaddleBrown', 'SpringGreen', 'RosyBrown','Silver',]\n",
    "for j,i in enumerate(a):\n",
    "  ax0.add_patch( FancyArrow(0,0,cos(i),sin(i),width=0.02,\n",
    "                            length_includes_head=True,edgecolor=colors[j]))\n",
    "\n",
    "ax0.text(1,0.1,'0',fontsize=16)\n",
    "ax0.text(0.1,1,r'$\\frac{\\pi}{2}$',fontsize=22)\n",
    "ax0.text(-1,0.1,r'$\\pi$',fontsize=18)\n",
    "ax0.text(0.1,-1.2,r'$\\frac{3\\pi}{2}$',fontsize=22)\n",
    "ax0.axis(array([-1,1,-1,1])*1.45)\n",
    "ax0.set_title('Radial Frequency')\n",
    "ax0.set_xlabel('Real')\n",
    "ax0.set_ylabel('Imaginary')\n",
    "\n",
    "# plots in the middle column\n",
    "for i in range(8):\n",
    "  ax=subplot(gs[i,4:8])\n",
    "  ax.set_xticks([]);  ax.set_yticks([])\n",
    "  ax.set_ylabel(r'$\\Omega_{%d}=%d\\times\\frac{2\\pi}{16}$'%(i,i),fontsize=16,\n",
    "                rotation='horizontal')\n",
    "  ax.plot(U.real[:,i],'-o',color=colors[i])\n",
    "  ax.plot(U.imag[:,i],'--o',color=colors[i],alpha=0.2)\n",
    "  ax.axis(ymax=4/Nfft*1.1,ymin=-4/Nfft*1.1)\n",
    "ax.set_xticks(arange(16))\n",
    "ax.set_xlabel('n')\n",
    "\n",
    "# plots in the far right column\n",
    "for i in range(8):\n",
    "  ax=subplot(gs[i,8:])\n",
    "  ax.set_xticks([]);  ax.set_yticks([])\n",
    "  ax.set_ylabel(r'$\\Omega_{%d}=%d\\times\\frac{2\\pi}{16}$'%(i+8,i+8),fontsize=16,\n",
    "                rotation='horizontal')\n",
    "  ax.plot(U.real[:,i+8],'-o',color=colors[i+8])\n",
    "  ax.plot(U.imag[:,i+8],'--o',color=colors[i+8],alpha=0.2)\n",
    "  ax.axis(ymax=4/Nfft*1.1,ymin=-4/Nfft*1.1)\n",
    "  ax.yaxis.set_label_position('right')\n",
    "ax.set_xticks(arange(16))\n",
    "ax.set_xlabel('n')"
   ]
  }
 ],
 "metadata": {
  "kernelspec": {
   "display_name": "Python 3",
   "language": "python",
   "name": "python3"
  },
  "language_info": {
   "codemirror_mode": {
    "name": "ipython",
    "version": 2
   },
   "file_extension": ".py",
   "mimetype": "text/x-python",
   "name": "python",
   "nbconvert_exporter": "python",
   "pygments_lexer": "ipython2",
   "version": "2.7.6"
  }
 },
 "nbformat": 4,
 "nbformat_minor": 0
}